{
 "cells": [
  {
   "cell_type": "code",
   "execution_count": 62,
   "id": "1b6da46c",
   "metadata": {
    "scrolled": true
   },
   "outputs": [],
   "source": [
    "import turtle\n",
    "\n",
    "turtle.speed(10)\n",
    "\n",
    "for i in range(3):\n",
    "    turtle.forward(100)\n",
    "    turtle.right(90)\n",
    "turtle.forward(100)\n",
    "turtle.setheading(150)\n",
    "turtle.right(90)\n",
    "for k in range(2):\n",
    "    turtle.forward(105)\n",
    "    turtle.setheading(28)\n",
    "    turtle.right(90)\n",
    "\n",
    "    \n",
    "turtle.exitonclick()"
   ]
  },
  {
   "cell_type": "code",
   "execution_count": null,
   "id": "aca007ed",
   "metadata": {},
   "outputs": [],
   "source": []
  },
  {
   "cell_type": "code",
   "execution_count": null,
   "id": "c0186187",
   "metadata": {},
   "outputs": [],
   "source": []
  }
 ],
 "metadata": {
  "kernelspec": {
   "display_name": "Python 3",
   "language": "python",
   "name": "python3"
  },
  "language_info": {
   "codemirror_mode": {
    "name": "ipython",
    "version": 3
   },
   "file_extension": ".py",
   "mimetype": "text/x-python",
   "name": "python",
   "nbconvert_exporter": "python",
   "pygments_lexer": "ipython3",
   "version": "3.8.8"
  }
 },
 "nbformat": 4,
 "nbformat_minor": 5
}

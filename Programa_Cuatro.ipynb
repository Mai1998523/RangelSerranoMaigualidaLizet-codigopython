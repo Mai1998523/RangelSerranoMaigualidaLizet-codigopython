{
 "cells": [
  {
   "cell_type": "code",
   "execution_count": 2,
   "id": "278130dd",
   "metadata": {},
   "outputs": [
    {
     "name": "stdout",
     "output_type": "stream",
     "text": [
      "Ingresa los valores de la primer fila de la matriz: \n",
      "Valor uno: 3\n",
      "Valor dos: 4\n",
      "Ingresa los valores de la segunda fila de la matriz: \n",
      "Valor uno: 2\n",
      "Valor dos: 1\n",
      "[3.0, 4.0]\n",
      "[2.0, 1.0]\n",
      "El determinante de la raiz es:  -5.0\n"
     ]
    }
   ],
   "source": [
    "    filaUno = []\n",
    "    filaDos = []\n",
    "\n",
    "    print('Ingresa los valores de la primer fila de la matriz: ')\n",
    "    filaUno.append(float(input('Valor uno: ')))\n",
    "    filaUno.append(float(input('Valor dos: ')))\n",
    "    print('Ingresa los valores de la segunda fila de la matriz: ')\n",
    "    filaDos.append(float(input('Valor uno: ')))\n",
    "    filaDos.append(float(input('Valor dos: ')))\n",
    "\n",
    "    print(filaUno)\n",
    "    print(filaDos)\n",
    "    \n",
    "    multiplicacionUno = filaUno[0] * filaDos[1]\n",
    "    multiplicacionDos = filaDos[0] * filaUno[1]\n",
    "    \n",
    "    resta = multiplicacionUno - multiplicacionDos\n",
    "    print('El determinante de la raiz es: ', resta)\n",
    "    \n",
    "\n",
    "    "
   ]
  },
  {
   "cell_type": "code",
   "execution_count": null,
   "id": "d99103ce",
   "metadata": {},
   "outputs": [],
   "source": []
  }
 ],
 "metadata": {
  "kernelspec": {
   "display_name": "Python 3",
   "language": "python",
   "name": "python3"
  },
  "language_info": {
   "codemirror_mode": {
    "name": "ipython",
    "version": 3
   },
   "file_extension": ".py",
   "mimetype": "text/x-python",
   "name": "python",
   "nbconvert_exporter": "python",
   "pygments_lexer": "ipython3",
   "version": "3.8.8"
  }
 },
 "nbformat": 4,
 "nbformat_minor": 5
}

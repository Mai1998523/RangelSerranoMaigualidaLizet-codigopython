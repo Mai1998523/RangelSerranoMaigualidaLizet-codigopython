{
 "cells": [
  {
   "cell_type": "code",
   "execution_count": 4,
   "id": "d97584bc",
   "metadata": {},
   "outputs": [
    {
     "name": "stdout",
     "output_type": "stream",
     "text": [
      "Ingresa tu nombre completo: Maigua\n",
      "Ingresa tu numero telefonico: 5584109992\n",
      "Ingresa tu correo electronico: maigualida.estudiante17@gmail.com\n",
      "Bienvenido Maigua\t\n",
      "su numero telefonico es: 5584109992,\t\n",
      "y el correo que proporciono es el siguiente: maigualida.estudiante17@gmail.com\n"
     ]
    }
   ],
   "source": [
    "nombre = str(input('Ingresa tu nombre completo: '))\n",
    "telefono = int(input('Ingresa tu numero telefonico: '))\n",
    "correo = str(input('Ingresa tu correo electronico: '))\n",
    "\n",
    "print(\"\"\"Bienvenido {}\\t\n",
    "su numero telefonico es: {},\\t\n",
    "y el correo que proporciono es el siguiente: {}\"\"\".format(nombre,telefono,correo))"
   ]
  },
  {
   "cell_type": "code",
   "execution_count": null,
   "id": "9f55cf8b",
   "metadata": {},
   "outputs": [],
   "source": []
  }
 ],
 "metadata": {
  "kernelspec": {
   "display_name": "Python 3",
   "language": "python",
   "name": "python3"
  },
  "language_info": {
   "codemirror_mode": {
    "name": "ipython",
    "version": 3
   },
   "file_extension": ".py",
   "mimetype": "text/x-python",
   "name": "python",
   "nbconvert_exporter": "python",
   "pygments_lexer": "ipython3",
   "version": "3.8.8"
  }
 },
 "nbformat": 4,
 "nbformat_minor": 5
}

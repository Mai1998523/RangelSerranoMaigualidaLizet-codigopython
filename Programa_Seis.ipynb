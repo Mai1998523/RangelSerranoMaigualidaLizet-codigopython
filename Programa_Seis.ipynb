{
 "cells": [
  {
   "cell_type": "code",
   "execution_count": 8,
   "id": "793a52a9",
   "metadata": {},
   "outputs": [
    {
     "name": "stdout",
     "output_type": "stream",
     "text": [
      "Ingresa un numero: m\n",
      "Ingresaste un digito no numerico, por favor verifica\n",
      "Ingresa un numero: -5\n",
      "El numero ingresado es negativo\n"
     ]
    }
   ],
   "source": [
    "while(True):\n",
    "    try:\n",
    "        numero = float(input('Ingresa un numero: '))\n",
    "        if numero > 0:\n",
    "            print('El numero ingresado es positivo')\n",
    "        elif numero == 0:\n",
    "            print('El numero ingresado es 0')\n",
    "        else:\n",
    "            print('El numero ingresado es negativo')\n",
    "        break\n",
    "    except:\n",
    "        print('Ingresaste un digito no numerico, por favor verifica')\n",
    "    "
   ]
  },
  {
   "cell_type": "code",
   "execution_count": null,
   "id": "ed45ca6a",
   "metadata": {},
   "outputs": [],
   "source": []
  },
  {
   "cell_type": "code",
   "execution_count": null,
   "id": "16ce6504",
   "metadata": {},
   "outputs": [],
   "source": []
  }
 ],
 "metadata": {
  "kernelspec": {
   "display_name": "Python 3",
   "language": "python",
   "name": "python3"
  },
  "language_info": {
   "codemirror_mode": {
    "name": "ipython",
    "version": 3
   },
   "file_extension": ".py",
   "mimetype": "text/x-python",
   "name": "python",
   "nbconvert_exporter": "python",
   "pygments_lexer": "ipython3",
   "version": "3.8.8"
  }
 },
 "nbformat": 4,
 "nbformat_minor": 5
}

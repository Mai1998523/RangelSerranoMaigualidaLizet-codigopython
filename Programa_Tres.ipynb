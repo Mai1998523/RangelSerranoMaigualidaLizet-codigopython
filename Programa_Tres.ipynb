{
 "cells": [
  {
   "cell_type": "markdown",
   "id": "7e49b498",
   "metadata": {},
   "source": [
    "# rT= (r1 * r2)/(r1+r2) \n",
    "Esta formula unicamente sirve para el calculo de dos resistencias dentro de un circuito."
   ]
  },
  {
   "cell_type": "code",
   "execution_count": 5,
   "id": "7b82a745",
   "metadata": {},
   "outputs": [
    {
     "name": "stdout",
     "output_type": "stream",
     "text": [
      "Calculo de Dos resistencias en paralelo\n",
      "Ingresa el valor de la Resistencia Uno: 5.2\n",
      "Ingresa el valor de la Resistencia Dos: 5.2\n",
      "La resistencia total es:  2.6\n"
     ]
    }
   ],
   "source": [
    "print(\"Calculo de Dos resistencias en paralelo\")\n",
    "rUno = float(input('Ingresa el valor de la Resistencia Uno: '))\n",
    "rDos = float(input('Ingresa el valor de la Resistencia Dos: '))\n",
    "\n",
    "suma = rUno + rDos\n",
    "multiplicacion = rUno * rDos\n",
    "rTotal = multiplicacion / suma\n",
    "\n",
    "print('La resistencia total es: ', rTotal)"
   ]
  },
  {
   "cell_type": "code",
   "execution_count": null,
   "id": "613397be",
   "metadata": {},
   "outputs": [],
   "source": []
  },
  {
   "cell_type": "code",
   "execution_count": null,
   "id": "a30de585",
   "metadata": {},
   "outputs": [],
   "source": []
  }
 ],
 "metadata": {
  "kernelspec": {
   "display_name": "Python 3",
   "language": "python",
   "name": "python3"
  },
  "language_info": {
   "codemirror_mode": {
    "name": "ipython",
    "version": 3
   },
   "file_extension": ".py",
   "mimetype": "text/x-python",
   "name": "python",
   "nbconvert_exporter": "python",
   "pygments_lexer": "ipython3",
   "version": "3.8.8"
  }
 },
 "nbformat": 4,
 "nbformat_minor": 5
}

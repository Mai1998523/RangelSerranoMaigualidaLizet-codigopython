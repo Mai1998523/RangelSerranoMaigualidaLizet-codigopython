{
 "cells": [
  {
   "cell_type": "code",
   "execution_count": 15,
   "id": "6c94da61",
   "metadata": {},
   "outputs": [
    {
     "name": "stdout",
     "output_type": "stream",
     "text": [
      "              Proceso de evaluacion crediticia   \n",
      "¿Cuantos años tienes? 18\n",
      "¿Cual es la cantidad de efectivo que obtienes por mes: ?$6000\n",
      "¿A que cantidad ascienden tus gastos? $4000\n",
      "¿Deseas solicitar el credito? S/N  S\n",
      "¿Que monto de efectivo necesitas? $4500\n",
      "¿A cuantos meses deseas pagar? 12\n",
      "Felicidades pasaste el proceso de evaluacion creditica,\n",
      "en un lapso de 6 días un asesor se pondra en contacto contigo.\n"
     ]
    }
   ],
   "source": [
    "print('              Proceso de evaluacion crediticia   ')\n",
    "\n",
    "edad = int(input('¿Cuantos años tienes? '))\n",
    "if edad < 18:\n",
    "    print('No se cumple con la edad mínima, intenta dentro de 6 meses.')\n",
    "else:\n",
    "    ingresos = float(input('¿Cual es la cantidad de efectivo que obtienes por mes: ?$'))\n",
    "    egresos = float(input('¿A que cantidad ascienden tus gastos? $'))\n",
    "    if ingresos <= egresos:\n",
    "        print('Intenta dentro de 6 meses.')\n",
    "    elif ingresos > egresos:\n",
    "        R = str(input('¿Deseas solicitar el credito? S/N  '))\n",
    "        if R == 'N':\n",
    "            print('Vuelve pronto')\n",
    "        elif R == 'S':\n",
    "            monto = float(input('¿Que monto de efectivo necesitas? $'))\n",
    "            meses = int(input('¿A cuantos meses deseas pagar? '))\n",
    "            \n",
    "            cuota = monto / meses\n",
    "            Calculo = ingresos - egresos\n",
    "            if Calculo >= cuota:\n",
    "                print(\"\"\"Felicidades pasaste el proceso de evaluacion creditica,\n",
    "en un lapso de 6 días un asesor se pondra en contacto contigo.\"\"\")\n",
    "            else:\n",
    "                print(\"\"\"Lamentamos la noticia, pero no fuiste acredor al prestamo,\n",
    "regresa dentro de 6 meses\"\"\")\n",
    "            \n"
   ]
  },
  {
   "cell_type": "code",
   "execution_count": null,
   "id": "08234e48",
   "metadata": {},
   "outputs": [],
   "source": []
  },
  {
   "cell_type": "code",
   "execution_count": null,
   "id": "ad749c11",
   "metadata": {},
   "outputs": [],
   "source": []
  }
 ],
 "metadata": {
  "kernelspec": {
   "display_name": "Python 3",
   "language": "python",
   "name": "python3"
  },
  "language_info": {
   "codemirror_mode": {
    "name": "ipython",
    "version": 3
   },
   "file_extension": ".py",
   "mimetype": "text/x-python",
   "name": "python",
   "nbconvert_exporter": "python",
   "pygments_lexer": "ipython3",
   "version": "3.8.8"
  }
 },
 "nbformat": 4,
 "nbformat_minor": 5
}

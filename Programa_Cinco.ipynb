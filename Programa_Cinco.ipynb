{
 "cells": [
  {
   "cell_type": "markdown",
   "id": "37ff7144",
   "metadata": {},
   "source": [
    "# Ecuacion lineal de segundo grado \"ax2 +bx + c = 0\""
   ]
  },
  {
   "cell_type": "code",
   "execution_count": 18,
   "id": "82f498c4",
   "metadata": {},
   "outputs": [
    {
     "name": "stdout",
     "output_type": "stream",
     "text": [
      "Ecuacion lineal de segundo grado \"ax2 +bx + c = 0\" \n",
      "Ingresa los valores que corresponden: \n",
      "ax^2 ---> 6\n",
      "bx ---> 6\n",
      "c ---> 1\n",
      "Ecuacion lineal: 6x^2 + 6x + 1\n",
      "La raiz Uno es:  -0.21132486540518713\n",
      "La raiz Dos es:  -0.7886751345948128\n"
     ]
    }
   ],
   "source": [
    "import math\n",
    "\n",
    "print('Ecuacion lineal de segundo grado \"ax2 +bx + c = 0\" \\nIngresa los valores que corresponden: ')\n",
    "a = int(input('ax^2 ---> '))\n",
    "b = int(input('bx ---> '))\n",
    "c = int(input('c ---> '))\n",
    "\n",
    "print('Ecuacion lineal: {}x^2 + {}x + {}'.format(a,b,c))\n",
    "\n",
    "val1 = -b\n",
    "val2 = math.sqrt((b**2)-(4*a*c))\n",
    "val3 = 2*a\n",
    "\n",
    "xUno = (val1 + val2)/val3\n",
    "xDos = (val1 - val2)/val3\n",
    "\n",
    "print('La raiz Uno es: ', xUno)\n",
    "print('La raiz Dos es: ', xDos)\n"
   ]
  },
  {
   "cell_type": "code",
   "execution_count": null,
   "id": "17948c03",
   "metadata": {},
   "outputs": [],
   "source": []
  }
 ],
 "metadata": {
  "kernelspec": {
   "display_name": "Python 3",
   "language": "python",
   "name": "python3"
  },
  "language_info": {
   "codemirror_mode": {
    "name": "ipython",
    "version": 3
   },
   "file_extension": ".py",
   "mimetype": "text/x-python",
   "name": "python",
   "nbconvert_exporter": "python",
   "pygments_lexer": "ipython3",
   "version": "3.8.8"
  }
 },
 "nbformat": 4,
 "nbformat_minor": 5
}
